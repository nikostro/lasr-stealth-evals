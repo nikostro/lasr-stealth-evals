{
 "cells": [
  {
   "cell_type": "code",
   "execution_count": 19,
   "metadata": {},
   "outputs": [],
   "source": [
    "class environment:\n",
    "    def __init__(self):\n",
    "        self.di = {\"Hello\": \"World\"}\n",
    "    \n",
    "    async def get(self, key: str):\n",
    "        return self.di[key]\n",
    "    \n",
    "    async def set(self, key: str, value: str):\n",
    "        self.di[key] = value"
   ]
  },
  {
   "cell_type": "code",
   "execution_count": 20,
   "metadata": {},
   "outputs": [],
   "source": [
    "from autogen_core.tools import FunctionTool\n",
    "from autogen_core import CancellationToken"
   ]
  },
  {
   "cell_type": "code",
   "execution_count": 21,
   "metadata": {},
   "outputs": [],
   "source": [
    "environment = environment()\n",
    "getter = FunctionTool(environment.get, \"get\")\n",
    "setter = FunctionTool(environment.set, \"set\")"
   ]
  },
  {
   "cell_type": "code",
   "execution_count": 22,
   "metadata": {},
   "outputs": [
    {
     "name": "stdout",
     "output_type": "stream",
     "text": [
      "World\n",
      "None\n",
      "World2\n"
     ]
    }
   ],
   "source": [
    "print(await getter.run_json({\"key\": \"Hello\"}, cancellation_token=CancellationToken()))\n",
    "print(await setter.run_json({\"key\": \"Hello\", \"value\": \"World2\"}, cancellation_token=CancellationToken()))\n",
    "print(await getter.run_json({\"key\": \"Hello\"}, cancellation_token=CancellationToken()))"
   ]
  },
  {
   "cell_type": "code",
   "execution_count": null,
   "metadata": {},
   "outputs": [],
   "source": []
  },
  {
   "cell_type": "code",
   "execution_count": null,
   "metadata": {},
   "outputs": [],
   "source": []
  }
 ],
 "metadata": {
  "kernelspec": {
   "display_name": ".venv",
   "language": "python",
   "name": "python3"
  },
  "language_info": {
   "codemirror_mode": {
    "name": "ipython",
    "version": 3
   },
   "file_extension": ".py",
   "mimetype": "text/x-python",
   "name": "python",
   "nbconvert_exporter": "python",
   "pygments_lexer": "ipython3",
   "version": "3.13.2"
  }
 },
 "nbformat": 4,
 "nbformat_minor": 2
}
