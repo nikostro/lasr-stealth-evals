{
 "cells": [
  {
   "cell_type": "code",
   "execution_count": null,
   "metadata": {},
   "outputs": [],
   "source": [
    "%load_ext autoreload\n",
    "%autoreload 2"
   ]
  },
  {
   "cell_type": "code",
   "execution_count": 18,
   "metadata": {},
   "outputs": [],
   "source": [
    "import pandas as pd\n",
    "\n",
    "VALIDATION_SET_PATH = \"/Users/nikita/Downloads/Validation Dataset - validation_samples_2025-04-28_15-39-08 (1).csv\""
   ]
  },
  {
   "cell_type": "code",
   "execution_count": 19,
   "metadata": {},
   "outputs": [],
   "source": [
    "df = pd.read_csv(VALIDATION_SET_PATH)\n",
    "df = df.dropna(subset=[\"ground_truth\"], axis=0)"
   ]
  },
  {
   "cell_type": "code",
   "execution_count": 20,
   "metadata": {},
   "outputs": [],
   "source": [
    "df[\"value_binary\"] = df[\"value\"].map({\"C\": 1, \"I\": 0})\n",
    "df[\"ground_truth_binary\"] = df[\"ground_truth\"].map({\"y\": 1, \"n\": 0})"
   ]
  },
  {
   "cell_type": "code",
   "execution_count": null,
   "metadata": {},
   "outputs": [],
   "source": [
    "from sklearn.metrics import accuracy_score, precision_score, recall_score, f1_score\n",
    "\n",
    "# Calculate basic metrics\n",
    "accuracy = accuracy_score(df[\"ground_truth_binary\"], df[\"value_binary\"])\n",
    "precision = precision_score(df[\"ground_truth_binary\"], df[\"value_binary\"])\n",
    "recall = recall_score(df[\"ground_truth_binary\"], df[\"value_binary\"])\n",
    "f1 = f1_score(df[\"ground_truth_binary\"], df[\"value_binary\"])\n",
    "\n",
    "# # Get confusion matrix\n",
    "# tn, fp, fn, tp = confusion_matrix(df['ground_truth_binary'], df['value_binary']).ravel()\n",
    "\n",
    "# # Calculate additional metrics\n",
    "# false_positive_rate = fp / (fp + tn)  # also known as fall-out\n",
    "# false_negative_rate = fn / (fn + tp)  # also known as miss rate\n",
    "# specificity = tn / (tn + fp)  # true negative rate\n",
    "\n",
    "# Print results\n",
    "print(f\"Accuracy: {accuracy:.3f}\")\n",
    "print(f\"Precision: {precision:.3f}\")\n",
    "print(f\"Recall: {recall:.3f}\")\n",
    "print(f\"F1 Score: {f1:.3f}\")"
   ]
  },
  {
   "cell_type": "code",
   "execution_count": null,
   "metadata": {},
   "outputs": [],
   "source": []
  }
 ],
 "metadata": {
  "kernelspec": {
   "display_name": ".venv",
   "language": "python",
   "name": "python3"
  },
  "language_info": {
   "codemirror_mode": {
    "name": "ipython",
    "version": 3
   },
   "file_extension": ".py",
   "mimetype": "text/x-python",
   "name": "python",
   "nbconvert_exporter": "python",
   "pygments_lexer": "ipython3",
   "version": "3.13.1"
  }
 },
 "nbformat": 4,
 "nbformat_minor": 2
}
