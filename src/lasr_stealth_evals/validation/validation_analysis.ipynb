{
 "cells": [
  {
   "cell_type": "code",
   "execution_count": 1,
   "metadata": {},
   "outputs": [],
   "source": [
    "%load_ext autoreload\n",
    "%autoreload 2"
   ]
  },
  {
   "cell_type": "code",
   "execution_count": 2,
   "metadata": {},
   "outputs": [],
   "source": [
    "import pandas as pd\n",
    "\n",
    "VALIDATION_SET_PATH = \"/Users/nikita/Downloads/Validation Dataset - validation_samples_2025-04-29_18-17-26.csv\""
   ]
  },
  {
   "cell_type": "code",
   "execution_count": 32,
   "metadata": {},
   "outputs": [],
   "source": [
    "df = pd.read_csv(VALIDATION_SET_PATH)\n",
    "df = df.dropna(subset=[\"ground_truth\"], axis=0)"
   ]
  },
  {
   "cell_type": "code",
   "execution_count": 33,
   "metadata": {},
   "outputs": [],
   "source": [
    "df = df[\n",
    "    df[\"ground_truth\"].isin(\n",
    "        [\n",
    "            \"y\",\n",
    "            \"n\",\n",
    "            \"e\",\n",
    "            # \"u\",\n",
    "        ]\n",
    "    )\n",
    "]\n",
    "df[\"value_binary\"] = df[\"value\"].map({\"C\": 1, \"I\": 0})\n",
    "df[\"ground_truth_binary\"] = df[\"ground_truth\"].map({\"y\": 1, \"n\": 0, \"e\": 0, \"u\": 0})"
   ]
  },
  {
   "cell_type": "code",
   "execution_count": 34,
   "metadata": {},
   "outputs": [
    {
     "name": "stdout",
     "output_type": "stream",
     "text": [
      "Accuracy: 0.623\n",
      "Precision: 0.485\n",
      "Recall: 0.842\n",
      "F1 Score: 0.615\n",
      "\n",
      "false_positive_rate: 0.5\n",
      "false_negative_rate: 0.15789473684210525\n",
      "specificity: 0.5\n"
     ]
    }
   ],
   "source": [
    "from sklearn.metrics import accuracy_score, precision_score, recall_score, f1_score, confusion_matrix\n",
    "\n",
    "# Calculate basic metrics\n",
    "accuracy = accuracy_score(df[\"ground_truth_binary\"], df[\"value_binary\"])\n",
    "precision = precision_score(df[\"ground_truth_binary\"], df[\"value_binary\"])\n",
    "recall = recall_score(df[\"ground_truth_binary\"], df[\"value_binary\"])\n",
    "f1 = f1_score(df[\"ground_truth_binary\"], df[\"value_binary\"])\n",
    "\n",
    "# Get confusion matrix\n",
    "tn, fp, fn, tp = confusion_matrix(df[\"ground_truth_binary\"], df[\"value_binary\"]).ravel()\n",
    "\n",
    "# Calculate additional metrics\n",
    "false_positive_rate = fp / (fp + tn)  # also known as fall-out\n",
    "false_negative_rate = fn / (fn + tp)  # also known as miss rate\n",
    "specificity = tn / (tn + fp)  # true negative rate\n",
    "\n",
    "# Print results\n",
    "print(f\"Accuracy: {accuracy:.3f}\")\n",
    "print(f\"Precision: {precision:.3f}\")\n",
    "print(f\"Recall: {recall:.3f}\")\n",
    "print(f\"F1 Score: {f1:.3f}\")\n",
    "print()\n",
    "print(f\"false_positive_rate: {false_positive_rate}\")\n",
    "print(f\"false_negative_rate: {false_negative_rate}\")\n",
    "print(f\"specificity: {specificity}\")"
   ]
  },
  {
   "cell_type": "code",
   "execution_count": null,
   "metadata": {},
   "outputs": [],
   "source": []
  }
 ],
 "metadata": {
  "kernelspec": {
   "display_name": ".venv",
   "language": "python",
   "name": "python3"
  },
  "language_info": {
   "codemirror_mode": {
    "name": "ipython",
    "version": 3
   },
   "file_extension": ".py",
   "mimetype": "text/x-python",
   "name": "python",
   "nbconvert_exporter": "python",
   "pygments_lexer": "ipython3",
   "version": "3.13.1"
  }
 },
 "nbformat": 4,
 "nbformat_minor": 2
}
