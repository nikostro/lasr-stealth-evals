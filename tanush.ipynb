{
 "cells": [
  {
   "cell_type": "code",
   "execution_count": 9,
   "metadata": {},
   "outputs": [],
   "source": [
    "from inspect_ai.log import read_eval_log"
   ]
  },
  {
   "cell_type": "code",
   "execution_count": 10,
   "metadata": {},
   "outputs": [],
   "source": [
    "log = read_eval_log(\n",
    "    \"/Users/nikita/Documents/LASR/lasr-stealth-evals/logs/2025-04-30T19-32-58+01-00_evaluation_B7givnSf658W9BXkqdDuXU.eval\"\n",
    ")"
   ]
  },
  {
   "cell_type": "code",
   "execution_count": 18,
   "metadata": {},
   "outputs": [],
   "source": [
    "from collections import Counter\n",
    "\n",
    "counter = Counter()\n",
    "acceptance_counter = Counter()\n",
    "assert log.samples\n",
    "for sample in log.samples:\n",
    "    counter[len(sample.messages)] += 1\n",
    "    if sample.score and sample.score.value == \"C\":\n",
    "        acceptance_counter[len(sample.messages)] += 1"
   ]
  },
  {
   "cell_type": "code",
   "execution_count": 19,
   "metadata": {},
   "outputs": [
    {
     "data": {
      "text/plain": [
       "Counter({41: 94,\n",
       "         43: 87,\n",
       "         5: 79,\n",
       "         45: 39,\n",
       "         47: 26,\n",
       "         49: 21,\n",
       "         51: 14,\n",
       "         53: 7,\n",
       "         17: 5,\n",
       "         23: 4,\n",
       "         55: 4,\n",
       "         59: 3,\n",
       "         15: 3,\n",
       "         57: 2,\n",
       "         21: 2,\n",
       "         37: 2,\n",
       "         27: 2,\n",
       "         29: 1,\n",
       "         25: 1,\n",
       "         13: 1,\n",
       "         39: 1,\n",
       "         33: 1,\n",
       "         35: 1})"
      ]
     },
     "execution_count": 19,
     "metadata": {},
     "output_type": "execute_result"
    }
   ],
   "source": [
    "counter"
   ]
  },
  {
   "cell_type": "code",
   "execution_count": 20,
   "metadata": {},
   "outputs": [
    {
     "data": {
      "text/plain": [
       "Counter({5: 79,\n",
       "         17: 5,\n",
       "         23: 4,\n",
       "         15: 3,\n",
       "         21: 2,\n",
       "         37: 2,\n",
       "         27: 2,\n",
       "         41: 1,\n",
       "         29: 1,\n",
       "         25: 1,\n",
       "         13: 1,\n",
       "         39: 1,\n",
       "         33: 1,\n",
       "         45: 1,\n",
       "         35: 1})"
      ]
     },
     "execution_count": 20,
     "metadata": {},
     "output_type": "execute_result"
    }
   ],
   "source": [
    "acceptance_counter"
   ]
  },
  {
   "cell_type": "code",
   "execution_count": null,
   "metadata": {},
   "outputs": [],
   "source": []
  }
 ],
 "metadata": {
  "kernelspec": {
   "display_name": ".venv",
   "language": "python",
   "name": "python3"
  },
  "language_info": {
   "codemirror_mode": {
    "name": "ipython",
    "version": 3
   },
   "file_extension": ".py",
   "mimetype": "text/x-python",
   "name": "python",
   "nbconvert_exporter": "python",
   "pygments_lexer": "ipython3",
   "version": "3.13.1"
  }
 },
 "nbformat": 4,
 "nbformat_minor": 2
}
